{
  "nbformat": 4,
  "nbformat_minor": 0,
  "metadata": {
    "colab": {
      "name": "Ödev1-YapayZeka-V1R1",
      "version": "0.3.2",
      "provenance": [],
      "include_colab_link": true
    },
    "kernelspec": {
      "name": "python3",
      "display_name": "Python 3"
    }
  },
  "cells": [
    {
      "cell_type": "markdown",
      "metadata": {
        "id": "view-in-github",
        "colab_type": "text"
      },
      "source": [
        "<a href=\"https://colab.research.google.com/github/leksey4/Yapay-Zeka-Kursu/blob/master/%C3%96dev1_YapayZeka_V1R1.ipynb\" target=\"_parent\"><img src=\"https://colab.research.google.com/assets/colab-badge.svg\" alt=\"Open In Colab\"/></a>"
      ]
    },
    {
      "cell_type": "code",
      "metadata": {
        "id": "URRRLWwCdpUH",
        "colab_type": "code",
        "outputId": "c6674588-932d-44d7-cab6-bb73df4c8109",
        "colab": {
          "base_uri": "https://localhost:8080/",
          "height": 34
        }
      },
      "source": [
        "'''\n",
        "Bu kısım Google Drive'ı Colab ile bğlamak için kullanılmıştır. \n",
        "Veriler \"http://socr.ucla.edu/docs/resources/SOCR_Data/SOCR_Data_Dinov_020108_HeightsWeights.html\" \n",
        "adresinden alınıp csv dosyasına dönüştürülmüş ve Google Drive'a yüklenmiştir.\n",
        "Bahsedlen dosya ödev mailinde gönderilmiştir.\n",
        "Veri 2500 kişini pounds cinsinden ağırlığını içermektedir.\n",
        "Normal dağılım göstermesi beklenmektedir.\n",
        "'''\n",
        "\n",
        "from google.colab import drive\n",
        "drive.mount('/content/drive/')"
      ],
      "execution_count": 0,
      "outputs": [
        {
          "output_type": "stream",
          "text": [
            "Drive already mounted at /content/drive/; to attempt to forcibly remount, call drive.mount(\"/content/drive/\", force_remount=True).\n"
          ],
          "name": "stdout"
        }
      ]
    },
    {
      "cell_type": "code",
      "metadata": {
        "id": "c5dz5wy6i8pd",
        "colab_type": "code",
        "outputId": "a99b7904-d237-4968-b2fe-891258bd6f07",
        "colab": {
          "base_uri": "https://localhost:8080/",
          "height": 34
        }
      },
      "source": [
        "import pandas as pd\n",
        "import numpy as np\n",
        "\n",
        "data = pd.read_csv('/content/drive/My Drive/weight_pounds.csv')  # Csv dosyasının okunması\n",
        "weights = np.array(data['Weight(Pounds)'])# Object'in numpy.ndarray'a dönüştürülmesi\n",
        "\n",
        "print(weights)"
      ],
      "execution_count": 0,
      "outputs": [
        {
          "output_type": "stream",
          "text": [
            "[112.9925 136.4873 153.0269 ... 126.2062 155.2615 142.8808]\n"
          ],
          "name": "stdout"
        }
      ]
    },
    {
      "cell_type": "code",
      "metadata": {
        "id": "FvZAniRjevd9",
        "colab_type": "code",
        "outputId": "5f3b808b-c599-48ea-f42d-94f9679c1d25",
        "colab": {
          "base_uri": "https://localhost:8080/",
          "height": 85
        }
      },
      "source": [
        "print(\"Ortalama:      \", weights.mean()) \n",
        "print(\"Standart Sapma:\", weights.std())\n",
        "print(\"Minimum :      \", weights.min())\n",
        "print(\"Maksimum :     \", weights.max())"
      ],
      "execution_count": 0,
      "outputs": [
        {
          "output_type": "stream",
          "text": [
            "Ortalama:       127.45799238\n",
            "Standart Sapma: 11.58468878604053\n",
            "Minimum :       83.08527\n",
            "Maksimum :      168.229\n"
          ],
          "name": "stdout"
        }
      ]
    },
    {
      "cell_type": "code",
      "metadata": {
        "id": "Nbpj4-e4f0Qe",
        "colab_type": "code",
        "outputId": "9326d8b7-54c8-4fd2-984b-9168a4287c13",
        "colab": {
          "base_uri": "https://localhost:8080/",
          "height": 68
        }
      },
      "source": [
        "print(\"1. Kartil: \", np.percentile(weights, 25))\n",
        "print(\"Medyan   : \", np.median(weights))\n",
        "print(\"3. Kartil: \", np.percentile(weights, 75))"
      ],
      "execution_count": 0,
      "outputs": [
        {
          "output_type": "stream",
          "text": [
            "1. Kartil:  119.87429999999999\n",
            "Medyan   :  127.61785\n",
            "3. Kartil:  135.080725\n"
          ],
          "name": "stdout"
        }
      ]
    },
    {
      "cell_type": "code",
      "metadata": {
        "id": "8eHTiev1ga25",
        "colab_type": "code",
        "colab": {}
      },
      "source": [
        "import matplotlib.pyplot as plt"
      ],
      "execution_count": 0,
      "outputs": []
    },
    {
      "cell_type": "code",
      "metadata": {
        "id": "pKF3Gv5Nhu-L",
        "colab_type": "code",
        "outputId": "be4bd048-517a-44b5-8db8-73682a1816eb",
        "colab": {
          "base_uri": "https://localhost:8080/",
          "height": 320
        }
      },
      "source": [
        "# Histogram ve normal dağılımının çizilimi\n",
        "count, bins, ignored = plt.hist(weights, \"auto\", normed=True)\n",
        "\n",
        "mean = np.mean(weights)\n",
        "std = np.std(weights)\n",
        "\n",
        "plt.plot(bins, 1/(std * np.sqrt(2 * np.pi)) *\n",
        "    np.exp( - (bins - mean)**2 / (2 * std**2) ),       linewidth=3, color='r')\n",
        "plt.show()"
      ],
      "execution_count": 0,
      "outputs": [
        {
          "output_type": "stream",
          "text": [
            "/usr/local/lib/python3.6/dist-packages/matplotlib/axes/_axes.py:6521: MatplotlibDeprecationWarning: \n",
            "The 'normed' kwarg was deprecated in Matplotlib 2.1 and will be removed in 3.1. Use 'density' instead.\n",
            "  alternative=\"'density'\", removal=\"3.1\")\n"
          ],
          "name": "stderr"
        },
        {
          "output_type": "display_data",
          "data": {
            "image/png": "[encoded data removed]",
            "text/plain": [
              "<Figure size 432x288 with 1 Axes>"
            ]
          },
          "metadata": {
            "tags": []
          }
        }
      ]
    },
    {
      "cell_type": "code",
      "metadata": {
        "id": "5fozYbHDhzsa",
        "colab_type": "code",
        "outputId": "3ba55fb5-3955-4a6b-b9d3-adcfa6e72896",
        "colab": {
          "base_uri": "https://localhost:8080/",
          "height": 395
        }
      },
      "source": [
        "data.plot(kind='box', figsize=(8, 6)) #Kartillerin box ile çizimi"
      ],
      "execution_count": 0,
      "outputs": [
        {
          "output_type": "execute_result",
          "data": {
            "text/plain": [
              "<matplotlib.axes._subplots.AxesSubplot at 0x7f3cc5f5cf60>"
            ]
          },
          "metadata": {
            "tags": []
          },
          "execution_count": 32
        },
        {
          "output_type": "display_data",
          "data": {
            "image/png": "[encoded data removed]",
            "text/plain": [
              "<Figure size 576x432 with 1 Axes>"
            ]
          },
          "metadata": {
            "tags": []
          }
        }
      ]
    },
    {
      "cell_type": "code",
      "metadata": {
        "id": "Uv_Iqa88h5F7",
        "colab_type": "code",
        "colab": {}
      },
      "source": [
        ""
      ],
      "execution_count": 0,
      "outputs": []
    }
  ]
}